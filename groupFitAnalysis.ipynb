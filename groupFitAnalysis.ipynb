{
 "cells": [
  {
   "cell_type": "code",
   "execution_count": 1,
   "metadata": {},
   "outputs": [
    {
     "name": "stderr",
     "output_type": "stream",
     "text": [
      "C:\\Users\\yc180\\AppData\\Local\\Continuum\\Anaconda3\\lib\\site-packages\\statsmodels\\compat\\pandas.py:56: FutureWarning: The pandas.core.datetools module is deprecated and will be removed in a future version. Please use the pandas.tseries module instead.\n",
      "  from pandas.core import datetools\n"
     ]
    }
   ],
   "source": [
    "import pandas as pd\n",
    "import numpy as np\n",
    "from scipy import stats\n",
    "import statsmodels.api as sm"
   ]
  },
  {
   "cell_type": "markdown",
   "metadata": {},
   "source": [
    "# 4. Estimate how well the PE_face and PE_name explain the RTs (among other factors)\n",
    "* calculate PE_feac and PE_name\n",
    "* construct a design matrix containing all other explanatory factors + PE_face and PE_name\n",
    "* Performa a multiple regressions and obtain the beta coefficient for PE_face and PE_name"
   ]
  },
  {
   "cell_type": "code",
   "execution_count": 2,
   "metadata": {},
   "outputs": [
    {
     "data": {
      "text/html": [
       "<div>\n",
       "<style>\n",
       "    .dataframe thead tr:only-child th {\n",
       "        text-align: right;\n",
       "    }\n",
       "\n",
       "    .dataframe thead th {\n",
       "        text-align: left;\n",
       "    }\n",
       "\n",
       "    .dataframe tbody tr th {\n",
       "        vertical-align: top;\n",
       "    }\n",
       "</style>\n",
       "<table border=\"1\" class=\"dataframe\">\n",
       "  <thead>\n",
       "    <tr style=\"text-align: right;\">\n",
       "      <th></th>\n",
       "      <th>sbjId</th>\n",
       "      <th>faceId</th>\n",
       "      <th>nameId</th>\n",
       "      <th>conflict</th>\n",
       "      <th>zRT</th>\n",
       "      <th>RT</th>\n",
       "      <th>CP_face</th>\n",
       "      <th>CP_name</th>\n",
       "      <th>bkType</th>\n",
       "      <th>runId</th>\n",
       "      <th>faceRep</th>\n",
       "      <th>nameRep</th>\n",
       "      <th>fullRepAlt</th>\n",
       "      <th>PE_face</th>\n",
       "      <th>PE_name</th>\n",
       "    </tr>\n",
       "  </thead>\n",
       "  <tbody>\n",
       "    <tr>\n",
       "      <th>0</th>\n",
       "      <td>1</td>\n",
       "      <td>8</td>\n",
       "      <td>8</td>\n",
       "      <td>0</td>\n",
       "      <td>-0.240255</td>\n",
       "      <td>577.219800</td>\n",
       "      <td>0.50</td>\n",
       "      <td>0.500</td>\n",
       "      <td>None</td>\n",
       "      <td>None</td>\n",
       "      <td>None</td>\n",
       "      <td>None</td>\n",
       "      <td>None</td>\n",
       "      <td>0.50</td>\n",
       "      <td>0.500</td>\n",
       "    </tr>\n",
       "    <tr>\n",
       "      <th>1</th>\n",
       "      <td>1</td>\n",
       "      <td>5</td>\n",
       "      <td>5</td>\n",
       "      <td>0</td>\n",
       "      <td>0.820208</td>\n",
       "      <td>665.302282</td>\n",
       "      <td>0.50</td>\n",
       "      <td>0.500</td>\n",
       "      <td>None</td>\n",
       "      <td>None</td>\n",
       "      <td>None</td>\n",
       "      <td>None</td>\n",
       "      <td>None</td>\n",
       "      <td>0.50</td>\n",
       "      <td>0.500</td>\n",
       "    </tr>\n",
       "    <tr>\n",
       "      <th>2</th>\n",
       "      <td>1</td>\n",
       "      <td>7</td>\n",
       "      <td>6</td>\n",
       "      <td>1</td>\n",
       "      <td>2.027002</td>\n",
       "      <td>765.539121</td>\n",
       "      <td>0.50</td>\n",
       "      <td>0.500</td>\n",
       "      <td>None</td>\n",
       "      <td>None</td>\n",
       "      <td>None</td>\n",
       "      <td>None</td>\n",
       "      <td>None</td>\n",
       "      <td>0.50</td>\n",
       "      <td>0.500</td>\n",
       "    </tr>\n",
       "    <tr>\n",
       "      <th>3</th>\n",
       "      <td>1</td>\n",
       "      <td>5</td>\n",
       "      <td>6</td>\n",
       "      <td>1</td>\n",
       "      <td>2.946576</td>\n",
       "      <td>841.919275</td>\n",
       "      <td>0.24</td>\n",
       "      <td>0.675</td>\n",
       "      <td>None</td>\n",
       "      <td>None</td>\n",
       "      <td>None</td>\n",
       "      <td>None</td>\n",
       "      <td>None</td>\n",
       "      <td>0.76</td>\n",
       "      <td>0.325</td>\n",
       "    </tr>\n",
       "    <tr>\n",
       "      <th>4</th>\n",
       "      <td>1</td>\n",
       "      <td>8</td>\n",
       "      <td>7</td>\n",
       "      <td>1</td>\n",
       "      <td>-0.230702</td>\n",
       "      <td>578.013324</td>\n",
       "      <td>0.24</td>\n",
       "      <td>0.500</td>\n",
       "      <td>None</td>\n",
       "      <td>None</td>\n",
       "      <td>None</td>\n",
       "      <td>None</td>\n",
       "      <td>None</td>\n",
       "      <td>0.76</td>\n",
       "      <td>0.500</td>\n",
       "    </tr>\n",
       "  </tbody>\n",
       "</table>\n",
       "</div>"
      ],
      "text/plain": [
       "   sbjId  faceId  nameId  conflict       zRT          RT  CP_face  CP_name  \\\n",
       "0      1       8       8         0 -0.240255  577.219800     0.50    0.500   \n",
       "1      1       5       5         0  0.820208  665.302282     0.50    0.500   \n",
       "2      1       7       6         1  2.027002  765.539121     0.50    0.500   \n",
       "3      1       5       6         1  2.946576  841.919275     0.24    0.675   \n",
       "4      1       8       7         1 -0.230702  578.013324     0.24    0.500   \n",
       "\n",
       "  bkType runId faceRep nameRep fullRepAlt  PE_face  PE_name  \n",
       "0   None  None    None    None       None     0.50    0.500  \n",
       "1   None  None    None    None       None     0.50    0.500  \n",
       "2   None  None    None    None       None     0.50    0.500  \n",
       "3   None  None    None    None       None     0.76    0.325  \n",
       "4   None  None    None    None       None     0.76    0.500  "
      ]
     },
     "execution_count": 2,
     "metadata": {},
     "output_type": "execute_result"
    }
   ],
   "source": [
    "df_gp = pd.read_pickle('df_wCP_v3.pkl')\n",
    "newCol = ['bkType','runId','faceRep','nameRep','fullRepAlt','PE_face','PE_name']\n",
    "for i in newCol:\n",
    "    df_gp.loc[:, i] = None\n",
    "df_gp['PE_face'] = abs(df_gp.conflict-df_gp.CP_face)\n",
    "df_gp['PE_name'] = abs(df_gp.conflict-df_gp.CP_name)\n",
    "df_gp.head()"
   ]
  },
  {
   "cell_type": "code",
   "execution_count": 3,
   "metadata": {
    "collapsed": true
   },
   "outputs": [],
   "source": [
    "DMreg1 = ['PE_face','conflict','faceRep','nameRep','fullRepAlt']\n",
    "DMreg2 = ['PE_name','conflict','faceRep','nameRep','fullRepAlt']"
   ]
  },
  {
   "cell_type": "code",
   "execution_count": 4,
   "metadata": {},
   "outputs": [
    {
     "data": {
      "text/html": [
       "<div>\n",
       "<style>\n",
       "    .dataframe thead tr:only-child th {\n",
       "        text-align: right;\n",
       "    }\n",
       "\n",
       "    .dataframe thead th {\n",
       "        text-align: left;\n",
       "    }\n",
       "\n",
       "    .dataframe tbody tr th {\n",
       "        vertical-align: top;\n",
       "    }\n",
       "</style>\n",
       "<table border=\"1\" class=\"dataframe\">\n",
       "  <thead>\n",
       "    <tr style=\"text-align: right;\">\n",
       "      <th></th>\n",
       "      <th>sbjId</th>\n",
       "      <th>faceId</th>\n",
       "      <th>nameId</th>\n",
       "      <th>conflict</th>\n",
       "      <th>zRT</th>\n",
       "      <th>RT</th>\n",
       "      <th>CP_face</th>\n",
       "      <th>CP_name</th>\n",
       "      <th>bkType</th>\n",
       "      <th>runId</th>\n",
       "      <th>faceRep</th>\n",
       "      <th>nameRep</th>\n",
       "      <th>fullRepAlt</th>\n",
       "      <th>PE_face</th>\n",
       "      <th>PE_name</th>\n",
       "    </tr>\n",
       "  </thead>\n",
       "  <tbody>\n",
       "    <tr>\n",
       "      <th>0</th>\n",
       "      <td>1.0</td>\n",
       "      <td>8.0</td>\n",
       "      <td>8.0</td>\n",
       "      <td>0.0</td>\n",
       "      <td>-0.240255</td>\n",
       "      <td>577.219800</td>\n",
       "      <td>0.50</td>\n",
       "      <td>0.500</td>\n",
       "      <td>2</td>\n",
       "      <td>1.0</td>\n",
       "      <td>0</td>\n",
       "      <td>0</td>\n",
       "      <td>1</td>\n",
       "      <td>0.50</td>\n",
       "      <td>0.500</td>\n",
       "    </tr>\n",
       "    <tr>\n",
       "      <th>1</th>\n",
       "      <td>1.0</td>\n",
       "      <td>5.0</td>\n",
       "      <td>5.0</td>\n",
       "      <td>0.0</td>\n",
       "      <td>0.820208</td>\n",
       "      <td>665.302282</td>\n",
       "      <td>0.50</td>\n",
       "      <td>0.500</td>\n",
       "      <td>2</td>\n",
       "      <td>1.0</td>\n",
       "      <td>0</td>\n",
       "      <td>0</td>\n",
       "      <td>1</td>\n",
       "      <td>0.50</td>\n",
       "      <td>0.500</td>\n",
       "    </tr>\n",
       "    <tr>\n",
       "      <th>2</th>\n",
       "      <td>1.0</td>\n",
       "      <td>7.0</td>\n",
       "      <td>6.0</td>\n",
       "      <td>1.0</td>\n",
       "      <td>2.027002</td>\n",
       "      <td>765.539121</td>\n",
       "      <td>0.50</td>\n",
       "      <td>0.500</td>\n",
       "      <td>2</td>\n",
       "      <td>1.0</td>\n",
       "      <td>0</td>\n",
       "      <td>0</td>\n",
       "      <td>1</td>\n",
       "      <td>0.50</td>\n",
       "      <td>0.500</td>\n",
       "    </tr>\n",
       "    <tr>\n",
       "      <th>3</th>\n",
       "      <td>1.0</td>\n",
       "      <td>5.0</td>\n",
       "      <td>6.0</td>\n",
       "      <td>1.0</td>\n",
       "      <td>2.946576</td>\n",
       "      <td>841.919275</td>\n",
       "      <td>0.24</td>\n",
       "      <td>0.675</td>\n",
       "      <td>2</td>\n",
       "      <td>1.0</td>\n",
       "      <td>0</td>\n",
       "      <td>1</td>\n",
       "      <td>0</td>\n",
       "      <td>0.76</td>\n",
       "      <td>0.325</td>\n",
       "    </tr>\n",
       "    <tr>\n",
       "      <th>4</th>\n",
       "      <td>1.0</td>\n",
       "      <td>8.0</td>\n",
       "      <td>7.0</td>\n",
       "      <td>1.0</td>\n",
       "      <td>-0.230702</td>\n",
       "      <td>578.013324</td>\n",
       "      <td>0.24</td>\n",
       "      <td>0.500</td>\n",
       "      <td>2</td>\n",
       "      <td>1.0</td>\n",
       "      <td>0</td>\n",
       "      <td>0</td>\n",
       "      <td>1</td>\n",
       "      <td>0.76</td>\n",
       "      <td>0.500</td>\n",
       "    </tr>\n",
       "  </tbody>\n",
       "</table>\n",
       "</div>"
      ],
      "text/plain": [
       "   sbjId  faceId  nameId  conflict       zRT          RT  CP_face  CP_name  \\\n",
       "0    1.0     8.0     8.0       0.0 -0.240255  577.219800     0.50    0.500   \n",
       "1    1.0     5.0     5.0       0.0  0.820208  665.302282     0.50    0.500   \n",
       "2    1.0     7.0     6.0       1.0  2.027002  765.539121     0.50    0.500   \n",
       "3    1.0     5.0     6.0       1.0  2.946576  841.919275     0.24    0.675   \n",
       "4    1.0     8.0     7.0       1.0 -0.230702  578.013324     0.24    0.500   \n",
       "\n",
       "  bkType  runId faceRep nameRep  fullRepAlt  PE_face  PE_name  \n",
       "0      2    1.0       0       0           1     0.50    0.500  \n",
       "1      2    1.0       0       0           1     0.50    0.500  \n",
       "2      2    1.0       0       0           1     0.50    0.500  \n",
       "3      2    1.0       0       1           0     0.76    0.325  \n",
       "4      2    1.0       0       0           1     0.76    0.500  "
      ]
     },
     "execution_count": 4,
     "metadata": {},
     "output_type": "execute_result"
    }
   ],
   "source": [
    "#for S in np.unique(df_group.sbjId):\n",
    "S = 1\n",
    "df = df_gp[df_gp.sbjId==S]\n",
    "df.is_copy = False\n",
    "df.loc[df.faceId<=4, 'bkType'] = 1\n",
    "df.loc[df.faceId>=5, 'bkType'] = 2\n",
    "df.loc[:, 'runId'] = np.reshape(np.transpose(np.ones((int(len(df)/6),1),dtype=int)*np.arange(1,7,1)),[len(df),1])\n",
    "for r in np.unique(df.loc[:, 'runId']):\n",
    "    T = df.loc[df.runId == r,:]\n",
    "    T.is_copy = False\n",
    "    for col in ['faceRep','nameRep']:\n",
    "        idCol = 'faceId' if col=='faceRep' else 'nameId'\n",
    "        T.loc[T.index[1:], col]=np.diff(np.array(T.loc[:,idCol]))\n",
    "        T.loc[0,col]=1;\n",
    "        T.loc[T[col]!=0,col]=1\n",
    "        T.loc[:,col]=1-T.loc[:,col]\n",
    "        T['fullRepAlt']=0\n",
    "        T.loc[(T.faceRep==1) & (T.nameRep==1), 'fullRepAlt']=1\n",
    "        T.loc[(T.faceRep==0) & (T.nameRep==0), 'fullRepAlt']=1    \n",
    "    df.loc[df.runId== r, :]=T\n",
    "df.head()"
   ]
  },
  {
   "cell_type": "code",
   "execution_count": 5,
   "metadata": {},
   "outputs": [
    {
     "data": {
      "text/html": [
       "<div>\n",
       "<style>\n",
       "    .dataframe thead tr:only-child th {\n",
       "        text-align: right;\n",
       "    }\n",
       "\n",
       "    .dataframe thead th {\n",
       "        text-align: left;\n",
       "    }\n",
       "\n",
       "    .dataframe tbody tr th {\n",
       "        vertical-align: top;\n",
       "    }\n",
       "</style>\n",
       "<table border=\"1\" class=\"dataframe\">\n",
       "  <thead>\n",
       "    <tr style=\"text-align: right;\">\n",
       "      <th></th>\n",
       "      <th>sbjId</th>\n",
       "      <th>SC_face</th>\n",
       "      <th>SC_name</th>\n",
       "      <th>SR_face</th>\n",
       "      <th>SR_name</th>\n",
       "    </tr>\n",
       "  </thead>\n",
       "  <tbody>\n",
       "    <tr>\n",
       "      <th>0</th>\n",
       "      <td>1.0</td>\n",
       "      <td>0.366837</td>\n",
       "      <td>-1.174513</td>\n",
       "      <td>0.121522</td>\n",
       "      <td>-1.310785</td>\n",
       "    </tr>\n",
       "  </tbody>\n",
       "</table>\n",
       "</div>"
      ],
      "text/plain": [
       "   sbjId   SC_face   SC_name   SR_face   SR_name\n",
       "0    1.0  0.366837 -1.174513  0.121522 -1.310785"
      ]
     },
     "execution_count": 5,
     "metadata": {},
     "output_type": "execute_result"
    }
   ],
   "source": [
    "sbjResult = pd.DataFrame()    \n",
    "sbjResult.loc[0,'sbjId'] = S\n",
    "DMreg1 = ['PE_face','conflict','faceRep','nameRep','fullRepAlt']\n",
    "DMreg2 = ['PE_name','conflict','faceRep','nameRep','fullRepAlt']\n",
    "for bkType in [1,2]:\n",
    "    X1 = np.array(df.loc[df.bkType==bkType, DMreg1], dtype=float)\n",
    "    X1 = sm.add_constant(X1)\n",
    "    X2 = np.array(df.loc[df.bkType==bkType, DMreg2], dtype=float)\n",
    "    X2 = sm.add_constant(X2)\n",
    "    RT = stats.zscore(df.loc[df.bkType==bkType, 'RT'])\n",
    "    gaussian_model1 = sm.GLM(RT, X1, family=sm.families.Gaussian())\n",
    "    gaussian_results1 = gaussian_model1.fit()\n",
    "    gaussian_model2 = sm.GLM(RT, X2, family=sm.families.Gaussian())\n",
    "    gaussian_results2 = gaussian_model2.fit()\n",
    "    if bkType ==1:\n",
    "        sbjResult.loc[0,'SC_face']=gaussian_results1.tvalues[0]\n",
    "        sbjResult.loc[0,'SC_name']=gaussian_results2.tvalues[0]\n",
    "    else:\n",
    "        sbjResult.loc[0,'SR_face']=gaussian_results1.tvalues[0]\n",
    "        sbjResult.loc[0,'SR_name']=gaussian_results2.tvalues[0]            \n",
    "sbjResult.head()"
   ]
  },
  {
   "cell_type": "code",
   "execution_count": 6,
   "metadata": {},
   "outputs": [
    {
     "data": {
      "text/plain": [
       "<matplotlib.image.AxesImage at 0xe180c50>"
      ]
     },
     "execution_count": 6,
     "metadata": {},
     "output_type": "execute_result"
    },
    {
     "data": {
      "image/png": "[encoded data removed]",
      "text/plain": [
       "<matplotlib.figure.Figure at 0xbe37438>"
      ]
     },
     "metadata": {},
     "output_type": "display_data"
    }
   ],
   "source": [
    "import matplotlib.pyplot as plt\n",
    "%matplotlib inline\n",
    "plt.imshow(X1,extent=[0,1,0,1])"
   ]
  },
  {
   "cell_type": "markdown",
   "metadata": {},
   "source": [
    "# 5. Evaluate how well the model fitting explain the whole group's data\n",
    "* For this experiment, the expected behavioral finding is an 3-way interaction between learning condition (SC/SR) and trial type (congruent, incongruent) and stimuli type (freq-inc and rare-inc)"
   ]
  },
  {
   "cell_type": "code",
   "execution_count": 7,
   "metadata": {
    "scrolled": true
   },
   "outputs": [
    {
     "data": {
      "text/html": [
       "<div>\n",
       "<style>\n",
       "    .dataframe thead tr:only-child th {\n",
       "        text-align: right;\n",
       "    }\n",
       "\n",
       "    .dataframe thead th {\n",
       "        text-align: left;\n",
       "    }\n",
       "\n",
       "    .dataframe tbody tr th {\n",
       "        vertical-align: top;\n",
       "    }\n",
       "</style>\n",
       "<table border=\"1\" class=\"dataframe\">\n",
       "  <thead>\n",
       "    <tr style=\"text-align: right;\">\n",
       "      <th></th>\n",
       "      <th>bkType</th>\n",
       "      <th>conflictProb</th>\n",
       "      <th>conflict</th>\n",
       "      <th>RT</th>\n",
       "      <th>sbjId</th>\n",
       "    </tr>\n",
       "  </thead>\n",
       "  <tbody>\n",
       "    <tr>\n",
       "      <th>0</th>\n",
       "      <td>SC</td>\n",
       "      <td>rare_Inc</td>\n",
       "      <td>congruent</td>\n",
       "      <td>585.715443</td>\n",
       "      <td>1</td>\n",
       "    </tr>\n",
       "    <tr>\n",
       "      <th>1</th>\n",
       "      <td>SC</td>\n",
       "      <td>rare_Inc</td>\n",
       "      <td>incongruent</td>\n",
       "      <td>631.808450</td>\n",
       "      <td>1</td>\n",
       "    </tr>\n",
       "    <tr>\n",
       "      <th>2</th>\n",
       "      <td>SC</td>\n",
       "      <td>freq_Inc</td>\n",
       "      <td>congruent</td>\n",
       "      <td>578.896330</td>\n",
       "      <td>1</td>\n",
       "    </tr>\n",
       "    <tr>\n",
       "      <th>3</th>\n",
       "      <td>SC</td>\n",
       "      <td>freq_Inc</td>\n",
       "      <td>incongruent</td>\n",
       "      <td>621.245219</td>\n",
       "      <td>1</td>\n",
       "    </tr>\n",
       "    <tr>\n",
       "      <th>4</th>\n",
       "      <td>SR</td>\n",
       "      <td>rare_Inc</td>\n",
       "      <td>congruent</td>\n",
       "      <td>564.741262</td>\n",
       "      <td>1</td>\n",
       "    </tr>\n",
       "    <tr>\n",
       "      <th>5</th>\n",
       "      <td>SR</td>\n",
       "      <td>rare_Inc</td>\n",
       "      <td>incongruent</td>\n",
       "      <td>629.288301</td>\n",
       "      <td>1</td>\n",
       "    </tr>\n",
       "    <tr>\n",
       "      <th>6</th>\n",
       "      <td>SR</td>\n",
       "      <td>freq_Inc</td>\n",
       "      <td>congruent</td>\n",
       "      <td>618.258959</td>\n",
       "      <td>1</td>\n",
       "    </tr>\n",
       "    <tr>\n",
       "      <th>7</th>\n",
       "      <td>SR</td>\n",
       "      <td>freq_Inc</td>\n",
       "      <td>incongruent</td>\n",
       "      <td>593.620672</td>\n",
       "      <td>1</td>\n",
       "    </tr>\n",
       "    <tr>\n",
       "      <th>8</th>\n",
       "      <td>SC</td>\n",
       "      <td>rare_Inc</td>\n",
       "      <td>congruent</td>\n",
       "      <td>647.556012</td>\n",
       "      <td>3</td>\n",
       "    </tr>\n",
       "    <tr>\n",
       "      <th>9</th>\n",
       "      <td>SC</td>\n",
       "      <td>rare_Inc</td>\n",
       "      <td>incongruent</td>\n",
       "      <td>766.827562</td>\n",
       "      <td>3</td>\n",
       "    </tr>\n",
       "  </tbody>\n",
       "</table>\n",
       "</div>"
      ],
      "text/plain": [
       "  bkType conflictProb     conflict          RT  sbjId\n",
       "0     SC     rare_Inc    congruent  585.715443      1\n",
       "1     SC     rare_Inc  incongruent  631.808450      1\n",
       "2     SC     freq_Inc    congruent  578.896330      1\n",
       "3     SC     freq_Inc  incongruent  621.245219      1\n",
       "4     SR     rare_Inc    congruent  564.741262      1\n",
       "5     SR     rare_Inc  incongruent  629.288301      1\n",
       "6     SR     freq_Inc    congruent  618.258959      1\n",
       "7     SR     freq_Inc  incongruent  593.620672      1\n",
       "8     SC     rare_Inc    congruent  647.556012      3\n",
       "9     SC     rare_Inc  incongruent  766.827562      3"
      ]
     },
     "execution_count": 7,
     "metadata": {},
     "output_type": "execute_result"
    }
   ],
   "source": [
    "gp_meanRT = pd.read_pickle('gp_meanRT.pkl')\n",
    "gp_meanRT.head(10)"
   ]
  },
  {
   "cell_type": "code",
   "execution_count": 8,
   "metadata": {},
   "outputs": [
    {
     "data": {
      "text/plain": [
       "<seaborn.axisgrid.FacetGrid at 0xe06acf8>"
      ]
     },
     "execution_count": 8,
     "metadata": {},
     "output_type": "execute_result"
    },
    {
     "data": {
      "image/png": "[encoded data removed]",
      "text/plain": [
       "<matplotlib.figure.Figure at 0xe2b46d8>"
      ]
     },
     "metadata": {},
     "output_type": "display_data"
    }
   ],
   "source": [
    "import seaborn as sns\n",
    "import matplotlib.pyplot as plt\n",
    "%matplotlib inline\n",
    "sns.factorplot(x='conflictProb',y = 'RT', data=gp_meanRT, hue='conflict',col='bkType')"
   ]
  },
  {
   "cell_type": "markdown",
   "metadata": {},
   "source": [
    "* The two way interaction can besummarized as one number, what we called an 'ISPC effect' for SC/SR condition"
   ]
  },
  {
   "cell_type": "code",
   "execution_count": 9,
   "metadata": {},
   "outputs": [
    {
     "data": {
      "text/html": [
       "<div>\n",
       "<style>\n",
       "    .dataframe thead tr:only-child th {\n",
       "        text-align: right;\n",
       "    }\n",
       "\n",
       "    .dataframe thead th {\n",
       "        text-align: left;\n",
       "    }\n",
       "\n",
       "    .dataframe tbody tr th {\n",
       "        vertical-align: top;\n",
       "    }\n",
       "</style>\n",
       "<table border=\"1\" class=\"dataframe\">\n",
       "  <thead>\n",
       "    <tr style=\"text-align: right;\">\n",
       "      <th></th>\n",
       "      <th>sbjId</th>\n",
       "      <th>SC_ISPC</th>\n",
       "      <th>SR_ISPC</th>\n",
       "      <th>SC_face</th>\n",
       "      <th>SC_name</th>\n",
       "      <th>SR_face</th>\n",
       "      <th>SR_name</th>\n",
       "    </tr>\n",
       "  </thead>\n",
       "  <tbody>\n",
       "    <tr>\n",
       "      <th>0</th>\n",
       "      <td>1</td>\n",
       "      <td>3.744118</td>\n",
       "      <td>89.185327</td>\n",
       "      <td>-0.228430</td>\n",
       "      <td>1.891400</td>\n",
       "      <td>1.383945</td>\n",
       "      <td>5.025075</td>\n",
       "    </tr>\n",
       "    <tr>\n",
       "      <th>1</th>\n",
       "      <td>3</td>\n",
       "      <td>47.399978</td>\n",
       "      <td>43.686134</td>\n",
       "      <td>-0.203333</td>\n",
       "      <td>0.288874</td>\n",
       "      <td>1.121236</td>\n",
       "      <td>-0.991767</td>\n",
       "    </tr>\n",
       "    <tr>\n",
       "      <th>2</th>\n",
       "      <td>4</td>\n",
       "      <td>20.844006</td>\n",
       "      <td>97.353706</td>\n",
       "      <td>-0.368540</td>\n",
       "      <td>1.410079</td>\n",
       "      <td>-1.054423</td>\n",
       "      <td>4.844151</td>\n",
       "    </tr>\n",
       "    <tr>\n",
       "      <th>3</th>\n",
       "      <td>5</td>\n",
       "      <td>13.324552</td>\n",
       "      <td>30.969789</td>\n",
       "      <td>0.798603</td>\n",
       "      <td>0.511450</td>\n",
       "      <td>-0.718272</td>\n",
       "      <td>-0.241946</td>\n",
       "    </tr>\n",
       "    <tr>\n",
       "      <th>4</th>\n",
       "      <td>6</td>\n",
       "      <td>-5.709046</td>\n",
       "      <td>61.070809</td>\n",
       "      <td>-0.205837</td>\n",
       "      <td>0.702745</td>\n",
       "      <td>-2.413836</td>\n",
       "      <td>-0.563077</td>\n",
       "    </tr>\n",
       "  </tbody>\n",
       "</table>\n",
       "</div>"
      ],
      "text/plain": [
       "  sbjId    SC_ISPC    SR_ISPC   SC_face   SC_name   SR_face   SR_name\n",
       "0     1   3.744118  89.185327 -0.228430  1.891400  1.383945  5.025075\n",
       "1     3  47.399978  43.686134 -0.203333  0.288874  1.121236 -0.991767\n",
       "2     4  20.844006  97.353706 -0.368540  1.410079 -1.054423  4.844151\n",
       "3     5  13.324552  30.969789  0.798603  0.511450 -0.718272 -0.241946\n",
       "4     6  -5.709046  61.070809 -0.205837  0.702745 -2.413836 -0.563077"
      ]
     },
     "execution_count": 9,
     "metadata": {},
     "output_type": "execute_result"
    }
   ],
   "source": [
    "gp_ISPC = pd.read_pickle('gp_ISPC.pkl')\n",
    "gp_ISPC.head()"
   ]
  },
  {
   "cell_type": "markdown",
   "metadata": {},
   "source": [
    "* To test whether subjects indeed rely on 'face' in SC condition to predict conflicts and reply on 'name' in the SR condition, we can perform the following group-level correlation between PE_weights [see step 4. above] and ISPC in SC/SR condition"
   ]
  },
  {
   "cell_type": "code",
   "execution_count": 10,
   "metadata": {},
   "outputs": [
    {
     "data": {
      "image/png": "[encoded data removed]",
      "text/plain": [
       "<matplotlib.figure.Figure at 0xe3c4908>"
      ]
     },
     "metadata": {},
     "output_type": "display_data"
    }
   ],
   "source": [
    "# For the SC condition, we expect subjects to use face to predict trial-by-trial conflict\n",
    "g = sns.regplot(x = 'SC_ISPC', y = 'SC_face', data = gp_ISPC,color=\"r\")\n",
    "g = sns.regplot(x = 'SC_ISPC', y = 'SC_name', data = gp_ISPC,color=\"b\")\n",
    "g.set(xlabel= \"SC_ISPC\", ylabel= \"PE_weight\", title= \"group-level analysis\")\n",
    "g.legend(['face','name'])\n",
    "sns.plt.show()"
   ]
  },
  {
   "cell_type": "code",
   "execution_count": 11,
   "metadata": {},
   "outputs": [
    {
     "name": "stdout",
     "output_type": "stream",
     "text": [
      "For the SC condition:\n",
      "p-value for correlation between ISPC and PE_face was 0.012\n",
      "p-value for correlation between ISPC and PE_name was 0.892\n"
     ]
    }
   ],
   "source": [
    "import scipy\n",
    "SC_face_corr = scipy.stats.pearsonr(np.array(gp_ISPC.SC_ISPC),np.array(gp_ISPC.SC_face))\n",
    "SC_name_corr = scipy.stats.pearsonr(np.array(gp_ISPC.SC_ISPC),np.array(gp_ISPC.SC_name))\n",
    "print('For the SC condition:')\n",
    "print('p-value for correlation between ISPC and PE_face was {:.3f}'.format(SC_face_corr[1]))\n",
    "print('p-value for correlation between ISPC and PE_name was {:.3f}'.format(SC_name_corr[1]))"
   ]
  },
  {
   "cell_type": "code",
   "execution_count": 12,
   "metadata": {},
   "outputs": [
    {
     "data": {
      "image/png": "[encoded data removed]",
      "text/plain": [
       "<matplotlib.figure.Figure at 0xe4a8630>"
      ]
     },
     "metadata": {},
     "output_type": "display_data"
    }
   ],
   "source": [
    "# For the SR condition, we expect subjects to use face to predict trial-by-trial conflict\n",
    "g = sns.regplot(x = 'SR_ISPC', y = 'SR_face', data = gp_ISPC,color=\"r\")\n",
    "g = sns.regplot(x = 'SR_ISPC', y = 'SR_name', data = gp_ISPC,color=\"b\")\n",
    "g.set(xlabel= \"SR_ISPC\", ylabel= \"PE_weight\", title= \"group-level analysis\")\n",
    "g.legend(['face','name'])\n",
    "sns.plt.show()"
   ]
  },
  {
   "cell_type": "code",
   "execution_count": 13,
   "metadata": {},
   "outputs": [
    {
     "name": "stdout",
     "output_type": "stream",
     "text": [
      "For the SR condition:\n",
      "p-value for correlation between ISPC and PE_face was 0.595\n",
      "p-value for correlation between ISPC and PE_name was 0.000\n"
     ]
    }
   ],
   "source": [
    "SR_face_corr = scipy.stats.pearsonr(np.array(gp_ISPC.SR_ISPC),np.array(gp_ISPC.SR_face))\n",
    "SR_name_corr = scipy.stats.pearsonr(np.array(gp_ISPC.SR_ISPC),np.array(gp_ISPC.SR_name))\n",
    "print('For the SR condition:')\n",
    "print('p-value for correlation between ISPC and PE_face was {:.3f}'.format(SR_face_corr[1]))\n",
    "print('p-value for correlation between ISPC and PE_name was {:.3f}'.format(SR_name_corr[1]))"
   ]
  }
 ],
 "metadata": {
  "kernelspec": {
   "display_name": "Python 3",
   "language": "python",
   "name": "python3"
  },
  "language_info": {
   "codemirror_mode": {
    "name": "ipython",
    "version": 3
   },
   "file_extension": ".py",
   "mimetype": "text/x-python",
   "name": "python",
   "nbconvert_exporter": "python",
   "pygments_lexer": "ipython3",
   "version": "3.6.1"
  }
 },
 "nbformat": 4,
 "nbformat_minor": 2
}
