{
 "cells": [
  {
   "cell_type": "code",
   "execution_count": 1,
   "metadata": {
    "collapsed": true
   },
   "outputs": [],
   "source": [
    "import pandas as pd\n",
    "import numpy as np"
   ]
  },
  {
   "cell_type": "markdown",
   "metadata": {},
   "source": [
    "* Load in the data from a csv file"
   ]
  },
  {
   "cell_type": "code",
   "execution_count": 2,
   "metadata": {},
   "outputs": [
    {
     "name": "stdout",
     "output_type": "stream",
     "text": [
      "(19488, 6)\n"
     ]
    },
    {
     "data": {
      "text/plain": [
       "array([ 1,  2,  3,  4,  5,  6,  7,  8,  9, 10, 11, 12, 13, 14, 15, 16, 17,\n",
       "       18, 19, 20, 21, 22, 23, 24, 25, 26, 27, 28, 29], dtype=int64)"
      ]
     },
     "execution_count": 2,
     "metadata": {},
     "output_type": "execute_result"
    }
   ],
   "source": [
    "colNames = ['sbjId','faceId','nameId','conflict','zRT','RT']\n",
    "df_group = pd.read_csv('ISPC_behavior.csv', header=0, names=colNames)\n",
    "print(df_group.shape)\n",
    "np.unique(df_group.sbjId)"
   ]
  },
  {
   "cell_type": "markdown",
   "metadata": {},
   "source": [
    "* The following analysis will loop through each subject to obtain the best fitting learning rates"
   ]
  },
  {
   "cell_type": "code",
   "execution_count": 3,
   "metadata": {},
   "outputs": [
    {
     "data": {
      "text/html": [
       "<div>\n",
       "<style>\n",
       "    .dataframe thead tr:only-child th {\n",
       "        text-align: right;\n",
       "    }\n",
       "\n",
       "    .dataframe thead th {\n",
       "        text-align: left;\n",
       "    }\n",
       "\n",
       "    .dataframe tbody tr th {\n",
       "        vertical-align: top;\n",
       "    }\n",
       "</style>\n",
       "<table border=\"1\" class=\"dataframe\">\n",
       "  <thead>\n",
       "    <tr style=\"text-align: right;\">\n",
       "      <th></th>\n",
       "      <th>sbjId</th>\n",
       "      <th>faceId</th>\n",
       "      <th>nameId</th>\n",
       "      <th>conflict</th>\n",
       "      <th>zRT</th>\n",
       "      <th>RT</th>\n",
       "    </tr>\n",
       "  </thead>\n",
       "  <tbody>\n",
       "    <tr>\n",
       "      <th>0</th>\n",
       "      <td>1</td>\n",
       "      <td>8</td>\n",
       "      <td>8</td>\n",
       "      <td>0</td>\n",
       "      <td>-0.240255</td>\n",
       "      <td>577.219800</td>\n",
       "    </tr>\n",
       "    <tr>\n",
       "      <th>1</th>\n",
       "      <td>1</td>\n",
       "      <td>5</td>\n",
       "      <td>5</td>\n",
       "      <td>0</td>\n",
       "      <td>0.820208</td>\n",
       "      <td>665.302282</td>\n",
       "    </tr>\n",
       "    <tr>\n",
       "      <th>2</th>\n",
       "      <td>1</td>\n",
       "      <td>7</td>\n",
       "      <td>6</td>\n",
       "      <td>1</td>\n",
       "      <td>2.027002</td>\n",
       "      <td>765.539121</td>\n",
       "    </tr>\n",
       "    <tr>\n",
       "      <th>3</th>\n",
       "      <td>1</td>\n",
       "      <td>5</td>\n",
       "      <td>6</td>\n",
       "      <td>1</td>\n",
       "      <td>2.946576</td>\n",
       "      <td>841.919275</td>\n",
       "    </tr>\n",
       "    <tr>\n",
       "      <th>4</th>\n",
       "      <td>1</td>\n",
       "      <td>8</td>\n",
       "      <td>7</td>\n",
       "      <td>1</td>\n",
       "      <td>-0.230702</td>\n",
       "      <td>578.013324</td>\n",
       "    </tr>\n",
       "  </tbody>\n",
       "</table>\n",
       "</div>"
      ],
      "text/plain": [
       "   sbjId  faceId  nameId  conflict       zRT          RT\n",
       "0      1       8       8         0 -0.240255  577.219800\n",
       "1      1       5       5         0  0.820208  665.302282\n",
       "2      1       7       6         1  2.027002  765.539121\n",
       "3      1       5       6         1  2.946576  841.919275\n",
       "4      1       8       7         1 -0.230702  578.013324"
      ]
     },
     "execution_count": 3,
     "metadata": {},
     "output_type": "execute_result"
    }
   ],
   "source": [
    "#for S in np.unique(df_group.sbjId):\n",
    "S = 1\n",
    "df = df_group.loc[df_group.sbjId==S,:]\n",
    "df.head()"
   ]
  },
  {
   "cell_type": "markdown",
   "metadata": {},
   "source": [
    "* The idea is to use subjects' behavior (response time, df.RT) and the given conflict-level trial sequence (df.conflict) to infer their learning rates\n",
    "* To do so, we'll apply a simple temporal difference learning [or reinforcement learning] algorithm (Sutton & Barto, 1998) because we assume that's how subjects learn to predict each trial's conflict-level \n",
    "* We will exhaustively search for the learning rates that best described subjects' behavior (RT)"
   ]
  },
  {
   "cell_type": "markdown",
   "metadata": {},
   "source": [
    "# 1. Let's write a function that will return trial-by-trial conflict prediction based on a given conflict sequence and learning rate(alpha) "
   ]
  },
  {
   "cell_type": "code",
   "execution_count": 4,
   "metadata": {
    "collapsed": true
   },
   "outputs": [],
   "source": [
    "def conflictPred(c,alpha):\n",
    "    c=np.array(c)\n",
    "    p = np.zeros(len(c))+0.5\n",
    "    for i in range(len(c)-1):\n",
    "        p[i+1] = p[i]+ alpha*(c[i]-p[i])\n",
    "    return p"
   ]
  },
  {
   "cell_type": "markdown",
   "metadata": {},
   "source": [
    "* There are two potential sources of conflict prediction: from face stimuli and from name stimuli\n",
    "* In the Stroop task - subjects see a face with overlapping name (this name could be that face's name [conflict level=0] or someone else's name [conflict level =1])\n",
    "* Subjects only need to pay attention to the face to do the task, but the name could be helpful (e.g., if it is that face's name)\n",
    "* We design the task such that in one condition, face information is predictive of the conflict level and in another conditoin, name information is predictive of the conflict level\n",
    "* We want to know- whether subjects use face/name information respectively to predict conflict level and facilitate their task performance"
   ]
  },
  {
   "cell_type": "code",
   "execution_count": 5,
   "metadata": {
    "scrolled": true
   },
   "outputs": [
    {
     "data": {
      "text/html": [
       "<div>\n",
       "<style>\n",
       "    .dataframe thead tr:only-child th {\n",
       "        text-align: right;\n",
       "    }\n",
       "\n",
       "    .dataframe thead th {\n",
       "        text-align: left;\n",
       "    }\n",
       "\n",
       "    .dataframe tbody tr th {\n",
       "        vertical-align: top;\n",
       "    }\n",
       "</style>\n",
       "<table border=\"1\" class=\"dataframe\">\n",
       "  <thead>\n",
       "    <tr style=\"text-align: right;\">\n",
       "      <th></th>\n",
       "      <th>sbjId</th>\n",
       "      <th>faceId</th>\n",
       "      <th>nameId</th>\n",
       "      <th>conflict</th>\n",
       "      <th>zRT</th>\n",
       "      <th>RT</th>\n",
       "      <th>CP_face</th>\n",
       "      <th>CP_name</th>\n",
       "    </tr>\n",
       "  </thead>\n",
       "  <tbody>\n",
       "    <tr>\n",
       "      <th>0</th>\n",
       "      <td>1</td>\n",
       "      <td>8</td>\n",
       "      <td>8</td>\n",
       "      <td>0</td>\n",
       "      <td>-0.240255</td>\n",
       "      <td>577.219800</td>\n",
       "      <td>0.500</td>\n",
       "      <td>0.500</td>\n",
       "    </tr>\n",
       "    <tr>\n",
       "      <th>1</th>\n",
       "      <td>1</td>\n",
       "      <td>5</td>\n",
       "      <td>5</td>\n",
       "      <td>0</td>\n",
       "      <td>0.820208</td>\n",
       "      <td>665.302282</td>\n",
       "      <td>0.500</td>\n",
       "      <td>0.500</td>\n",
       "    </tr>\n",
       "    <tr>\n",
       "      <th>2</th>\n",
       "      <td>1</td>\n",
       "      <td>7</td>\n",
       "      <td>6</td>\n",
       "      <td>1</td>\n",
       "      <td>2.027002</td>\n",
       "      <td>765.539121</td>\n",
       "      <td>0.500</td>\n",
       "      <td>0.500</td>\n",
       "    </tr>\n",
       "    <tr>\n",
       "      <th>3</th>\n",
       "      <td>1</td>\n",
       "      <td>5</td>\n",
       "      <td>6</td>\n",
       "      <td>1</td>\n",
       "      <td>2.946576</td>\n",
       "      <td>841.919275</td>\n",
       "      <td>0.495</td>\n",
       "      <td>0.505</td>\n",
       "    </tr>\n",
       "    <tr>\n",
       "      <th>4</th>\n",
       "      <td>1</td>\n",
       "      <td>8</td>\n",
       "      <td>7</td>\n",
       "      <td>1</td>\n",
       "      <td>-0.230702</td>\n",
       "      <td>578.013324</td>\n",
       "      <td>0.495</td>\n",
       "      <td>0.500</td>\n",
       "    </tr>\n",
       "  </tbody>\n",
       "</table>\n",
       "</div>"
      ],
      "text/plain": [
       "   sbjId  faceId  nameId  conflict       zRT          RT  CP_face  CP_name\n",
       "0      1       8       8         0 -0.240255  577.219800    0.500    0.500\n",
       "1      1       5       5         0  0.820208  665.302282    0.500    0.500\n",
       "2      1       7       6         1  2.027002  765.539121    0.500    0.500\n",
       "3      1       5       6         1  2.946576  841.919275    0.495    0.505\n",
       "4      1       8       7         1 -0.230702  578.013324    0.495    0.500"
      ]
     },
     "execution_count": 5,
     "metadata": {},
     "output_type": "execute_result"
    }
   ],
   "source": [
    "alpha_face = 0.01\n",
    "alpha_name = 0.01\n",
    "for i in range(0,8,1):  # 0-7 (8 unique ids)\n",
    "    df.loc[df.faceId==i+1,'CP_face'] = conflictPred(df.loc[df.faceId==i+1, 'conflict'], alpha_face)\n",
    "    df.loc[df.nameId==i+1,'CP_name'] = conflictPred(df.loc[df.nameId==i+1, 'conflict'], alpha_name)\n",
    "df.head()            "
   ]
  },
  {
   "cell_type": "markdown",
   "metadata": {},
   "source": [
    "# 2. Let's see which combination of learning rates (a learning model) describes the subject's behavior\n",
    "- use RT to evaluate this model\n",
    "- calculate the sume of squared errors (SSEs) for each combination of alpha_face and alpha_name\n",
    "- find the smallest SSEs"
   ]
  },
  {
   "cell_type": "code",
   "execution_count": 6,
   "metadata": {
    "collapsed": true
   },
   "outputs": [],
   "source": [
    "import matplotlib.pyplot as plt\n",
    "%matplotlib inline"
   ]
  },
  {
   "cell_type": "markdown",
   "metadata": {},
   "source": [
    "* Construct design matrix, fit the data, and calculate the Sum of squared errors (SSEs)"
   ]
  },
  {
   "cell_type": "code",
   "execution_count": 7,
   "metadata": {},
   "outputs": [
    {
     "name": "stdout",
     "output_type": "stream",
     "text": [
      "4264115.94272\n"
     ]
    },
    {
     "data": {
      "image/png": "[encoded data removed]",
      "text/plain": [
       "<matplotlib.figure.Figure at 0x9976a20>"
      ]
     },
     "metadata": {},
     "output_type": "display_data"
    }
   ],
   "source": [
    "idxC = df[(df.conflict==0) & (df.zRT.notnull())].index\n",
    "idxI = df[(df.conflict==1) & (df.zRT.notnull())].index\n",
    "RT = np.concatenate((np.array(df.loc[idxC,'RT']), np.array(df.loc[idxI,'RT'])), axis=0)\n",
    "constC = np.transpose(np.array([[1],[0],[0],[0]])*np.ones(len(idxC),dtype=int))\n",
    "constI = np.transpose(np.array([[1],[0],[0],[0]])*np.ones(len(idxI),dtype=int))\n",
    "#\n",
    "dmC = df.loc[idxC,['CP_face','CP_name']]\n",
    "dmC = np.concatenate((dmC, constC), axis=1)\n",
    "dmI = df.loc[idxI,['CP_face','CP_name']]        \n",
    "dmI = np.concatenate((dmI, constI), axis=1)\n",
    "dmI = dmI[:,[3,4,5,0,1,2]]\n",
    "DM = np.concatenate((dmC, dmI),axis=0)\n",
    "plt.imshow(DM,extent=[0,1,0,1])\n",
    "diff =  RT - np.dot(np.dot(DM, np.linalg.pinv(DM)),RT)\n",
    "SSE = np.square(diff).sum()\n",
    "print(SSE)"
   ]
  },
  {
   "cell_type": "markdown",
   "metadata": {},
   "source": [
    "* compare SSE across all pairs of alpha_face and alpha_name\n",
    "* Preserve the model with the smallest (best fitting) SSEs"
   ]
  },
  {
   "cell_type": "code",
   "execution_count": null,
   "metadata": {
    "collapsed": true
   },
   "outputs": [],
   "source": [
    "bestSSE = -1\n",
    "if (bestSSE <0)|(SSE < bestSSE):\n",
    "    bestAlpha = [alpha_face, alpha_name]\n",
    "    bestSSE = SSE\n",
    "    df_wCP  = df"
   ]
  },
  {
   "cell_type": "markdown",
   "metadata": {},
   "source": [
    "# 3. Putting it all together: "
   ]
  },
  {
   "cell_type": "code",
   "execution_count": null,
   "metadata": {},
   "outputs": [
    {
     "name": "stderr",
     "output_type": "stream",
     "text": [
      "C:\\Users\\yc180\\AppData\\Local\\Continuum\\Anaconda3\\lib\\site-packages\\pandas\\core\\indexing.py:337: SettingWithCopyWarning: \n",
      "A value is trying to be set on a copy of a slice from a DataFrame.\n",
      "Try using .loc[row_indexer,col_indexer] = value instead\n",
      "\n",
      "See the caveats in the documentation: http://pandas.pydata.org/pandas-docs/stable/indexing.html#indexing-view-versus-copy\n",
      "  self.obj[key] = _infer_fill_value(value)\n",
      "C:\\Users\\yc180\\AppData\\Local\\Continuum\\Anaconda3\\lib\\site-packages\\pandas\\core\\indexing.py:517: SettingWithCopyWarning: \n",
      "A value is trying to be set on a copy of a slice from a DataFrame.\n",
      "Try using .loc[row_indexer,col_indexer] = value instead\n",
      "\n",
      "See the caveats in the documentation: http://pandas.pydata.org/pandas-docs/stable/indexing.html#indexing-view-versus-copy\n",
      "  self.obj[item] = s\n"
     ]
    }
   ],
   "source": [
    "for S in np.unique(df_group.sbjId):    \n",
    "    df = df_group.loc[df_group.sbjId==S,:]\n",
    "    \n",
    "    # for later Design matrix construction\n",
    "    idxC = df[(df.conflict==0) & (df.zRT.notnull())].index\n",
    "    idxI = df[(df.conflict==1) & (df.zRT.notnull())].index\n",
    "    RT = np.concatenate((np.array(df.loc[idxC,'RT']), np.array(df.loc[idxI,'RT'])), axis=0)\n",
    "    constC = np.transpose(np.array([[1],[0],[0],[0]])*np.ones(len(idxC),dtype=float))\n",
    "    constI = np.transpose(np.array([[1],[0],[0],[0]])*np.ones(len(idxI),dtype=float))\n",
    "    \n",
    "    # Run exhaustive search for the best fitting alpha_face, alpha_name using RT data     \n",
    "    bestSSE = -1        \n",
    "    for alpha_face in np.arange(0.01, 1, 0.01):\n",
    "        for alpha_name in np.arange(0.01, 1, 0.01):            \n",
    "            \n",
    "            # plug in the alphas and derive CP_face and CP_name\n",
    "            for i in range(0,8,1):  # 0-7 (8 unique ids)\n",
    "                df.loc[df.faceId==i+1,'CP_face'] = conflictPred(df.loc[df.faceId==i+1,'conflict'], alpha_face)\n",
    "                df.loc[df.nameId==i+1,'CP_name'] = conflictPred(df.loc[df.nameId==i+1,'conflict'], alpha_name)\n",
    "            \n",
    "            # Construct design matrix and calculate the Sum of squared errors (SSEs) \n",
    "            dmC = df.loc[idxC,['CP_face','CP_name']]\n",
    "            dmC = np.concatenate((dmC, constC), axis=1)\n",
    "            dmI = df.loc[idxI,['CP_face','CP_name']]        \n",
    "            dmI = np.concatenate((dmI, constI), axis=1)\n",
    "            dmI = dmI[:,[3,4,5,0,1,2]]\n",
    "            DM = np.concatenate((dmC, dmI),axis=0)            \n",
    "            diff =  RT - np.dot(np.dot(DM, np.linalg.pinv(DM)),RT)\n",
    "            SSE = np.square(diff).sum()            \n",
    "            \n",
    "            # presever the best model\n",
    "            if (bestSSE <0)|(SSE < bestSSE):\n",
    "                bestAlpha = [alpha_face, alpha_name]\n",
    "                bestSSE = SSE\n",
    "                df_wCP  = df                \n",
    "    \n",
    "    # end of a subject's modeling, put best-fitting CP back to group df and save the best-fitting alphas\n",
    "    df_gp_wCP = pd.concat([df_gp_wCP, df_wCP], axis=0)\n",
    "    gp_alphas.loc[SCNT, 'sbjId']=S\n",
    "    gp_alphas.loc[SCNT, 'alpha_face'] = bestAlpha[0]\n",
    "    gp_alphas.loc[SCNT, 'alpha_name'] = bestAlpha[1]\n",
    "\n",
    "# end of all subjects' modeling\n",
    "df_gp_wCP.to_pickle('df_wCP.pkl')\n",
    "gp_alphas.to_pickle('df_alphas.pkl')"
   ]
  }
 ],
 "metadata": {
  "kernelspec": {
   "display_name": "Python 3",
   "language": "python",
   "name": "python3"
  },
  "language_info": {
   "codemirror_mode": {
    "name": "ipython",
    "version": 3
   },
   "file_extension": ".py",
   "mimetype": "text/x-python",
   "name": "python",
   "nbconvert_exporter": "python",
   "pygments_lexer": "ipython3",
   "version": "3.6.1"
  }
 },
 "nbformat": 4,
 "nbformat_minor": 2
}
